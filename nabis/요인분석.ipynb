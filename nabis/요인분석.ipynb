{
 "cells": [
  {
   "cell_type": "code",
   "execution_count": 4,
   "metadata": {},
   "outputs": [],
   "source": [
    "import numpy as np\n",
    "import pandas as pd\n",
    "import seaborn as sns\n",
    "import matplotlib.pyplot as plt\n",
    "import seaborn as sns\n",
    "from sklearn.cluster import KMeans\n",
    "from sklearn.preprocessing import StandardScaler\n",
    "from factor_analyzer import FactorAnalyzer\n",
    "from statsmodels.stats.outliers_influence import variance_inflation_factor\n",
    "from statsmodels.tools.tools import add_constant\n",
    "from sklearn.decomposition import PCA\n",
    "\n",
    "plt.rc('font', family='Malgun Gothic')\n",
    "sns.set(font=\"Malgun Gothic\",#\"NanumGothicCoding\", \n",
    "        rc={\"axes.unicode_minus\":False}, # 마이너스 부호 깨짐 현상 해결\n",
    "        style='darkgrid')\n"
   ]
  },
  {
   "cell_type": "code",
   "execution_count": 2,
   "metadata": {},
   "outputs": [],
   "source": [
    "data=pd.read_csv(\"C:/Users/guswn/OneDrive/바탕 화면/생활인구/lp_df4.csv\",encoding=\"cp949\")"
   ]
  },
  {
   "cell_type": "code",
   "execution_count": 13,
   "metadata": {},
   "outputs": [
    {
     "data": {
      "text/html": [
       "<div>\n",
       "<style scoped>\n",
       "    .dataframe tbody tr th:only-of-type {\n",
       "        vertical-align: middle;\n",
       "    }\n",
       "\n",
       "    .dataframe tbody tr th {\n",
       "        vertical-align: top;\n",
       "    }\n",
       "\n",
       "    .dataframe thead th {\n",
       "        text-align: right;\n",
       "    }\n",
       "</style>\n",
       "<table border=\"1\" class=\"dataframe\">\n",
       "  <thead>\n",
       "    <tr style=\"text-align: right;\">\n",
       "      <th></th>\n",
       "      <th>행정구역</th>\n",
       "      <th>2023년06월_거주자 인구수</th>\n",
       "      <th>전입인구(2022.1~2023.5)</th>\n",
       "      <th>전출인구(2022.1~2023.5)</th>\n",
       "      <th>22생활인구평균</th>\n",
       "      <th>클러스터</th>\n",
       "      <th>인구수_대비_생활인구</th>\n",
       "      <th>관광 활성화 지수</th>\n",
       "    </tr>\n",
       "  </thead>\n",
       "  <tbody>\n",
       "    <tr>\n",
       "      <th>0</th>\n",
       "      <td>태백시</td>\n",
       "      <td>38802</td>\n",
       "      <td>5139</td>\n",
       "      <td>6335</td>\n",
       "      <td>2555405.325</td>\n",
       "      <td>4</td>\n",
       "      <td>65.857567</td>\n",
       "      <td>16.6</td>\n",
       "    </tr>\n",
       "    <tr>\n",
       "      <th>1</th>\n",
       "      <td>삼척시</td>\n",
       "      <td>63115</td>\n",
       "      <td>11049</td>\n",
       "      <td>10431</td>\n",
       "      <td>3565265.747</td>\n",
       "      <td>4</td>\n",
       "      <td>56.488406</td>\n",
       "      <td>42.2</td>\n",
       "    </tr>\n",
       "    <tr>\n",
       "      <th>2</th>\n",
       "      <td>홍천군</td>\n",
       "      <td>67448</td>\n",
       "      <td>9440</td>\n",
       "      <td>9327</td>\n",
       "      <td>4075700.482</td>\n",
       "      <td>4</td>\n",
       "      <td>60.427299</td>\n",
       "      <td>62.3</td>\n",
       "    </tr>\n",
       "    <tr>\n",
       "      <th>3</th>\n",
       "      <td>횡성군</td>\n",
       "      <td>46439</td>\n",
       "      <td>6365</td>\n",
       "      <td>5504</td>\n",
       "      <td>2649233.625</td>\n",
       "      <td>4</td>\n",
       "      <td>57.047603</td>\n",
       "      <td>32.9</td>\n",
       "    </tr>\n",
       "    <tr>\n",
       "      <th>4</th>\n",
       "      <td>영월군</td>\n",
       "      <td>37425</td>\n",
       "      <td>4912</td>\n",
       "      <td>4568</td>\n",
       "      <td>1861082.523</td>\n",
       "      <td>4</td>\n",
       "      <td>49.728324</td>\n",
       "      <td>29.3</td>\n",
       "    </tr>\n",
       "    <tr>\n",
       "      <th>...</th>\n",
       "      <td>...</td>\n",
       "      <td>...</td>\n",
       "      <td>...</td>\n",
       "      <td>...</td>\n",
       "      <td>...</td>\n",
       "      <td>...</td>\n",
       "      <td>...</td>\n",
       "      <td>...</td>\n",
       "    </tr>\n",
       "    <tr>\n",
       "      <th>66</th>\n",
       "      <td>하동군</td>\n",
       "      <td>41959</td>\n",
       "      <td>4851</td>\n",
       "      <td>5237</td>\n",
       "      <td>1787245.254</td>\n",
       "      <td>4</td>\n",
       "      <td>42.595039</td>\n",
       "      <td>21.2</td>\n",
       "    </tr>\n",
       "    <tr>\n",
       "      <th>67</th>\n",
       "      <td>산청군</td>\n",
       "      <td>34025</td>\n",
       "      <td>4638</td>\n",
       "      <td>4010</td>\n",
       "      <td>1685688.525</td>\n",
       "      <td>4</td>\n",
       "      <td>49.542646</td>\n",
       "      <td>29.4</td>\n",
       "    </tr>\n",
       "    <tr>\n",
       "      <th>68</th>\n",
       "      <td>함양군</td>\n",
       "      <td>37172</td>\n",
       "      <td>4227</td>\n",
       "      <td>4338</td>\n",
       "      <td>2047514.484</td>\n",
       "      <td>4</td>\n",
       "      <td>55.082172</td>\n",
       "      <td>18.3</td>\n",
       "    </tr>\n",
       "    <tr>\n",
       "      <th>69</th>\n",
       "      <td>거창군</td>\n",
       "      <td>60198</td>\n",
       "      <td>6920</td>\n",
       "      <td>6720</td>\n",
       "      <td>2706173.278</td>\n",
       "      <td>4</td>\n",
       "      <td>44.954538</td>\n",
       "      <td>20.0</td>\n",
       "    </tr>\n",
       "    <tr>\n",
       "      <th>70</th>\n",
       "      <td>합천군</td>\n",
       "      <td>41455</td>\n",
       "      <td>4697</td>\n",
       "      <td>4669</td>\n",
       "      <td>2091035.929</td>\n",
       "      <td>4</td>\n",
       "      <td>50.441103</td>\n",
       "      <td>18.2</td>\n",
       "    </tr>\n",
       "  </tbody>\n",
       "</table>\n",
       "<p>71 rows × 8 columns</p>\n",
       "</div>"
      ],
      "text/plain": [
       "   행정구역  2023년06월_거주자 인구수  전입인구(2022.1~2023.5)  전출인구(2022.1~2023.5)  \\\n",
       "0   태백시             38802                 5139                 6335   \n",
       "1   삼척시             63115                11049                10431   \n",
       "2   홍천군             67448                 9440                 9327   \n",
       "3   횡성군             46439                 6365                 5504   \n",
       "4   영월군             37425                 4912                 4568   \n",
       "..  ...               ...                  ...                  ...   \n",
       "66  하동군             41959                 4851                 5237   \n",
       "67  산청군             34025                 4638                 4010   \n",
       "68  함양군             37172                 4227                 4338   \n",
       "69  거창군             60198                 6920                 6720   \n",
       "70  합천군             41455                 4697                 4669   \n",
       "\n",
       "       22생활인구평균  클러스터  인구수_대비_생활인구  관광 활성화 지수  \n",
       "0   2555405.325     4    65.857567       16.6  \n",
       "1   3565265.747     4    56.488406       42.2  \n",
       "2   4075700.482     4    60.427299       62.3  \n",
       "3   2649233.625     4    57.047603       32.9  \n",
       "4   1861082.523     4    49.728324       29.3  \n",
       "..          ...   ...          ...        ...  \n",
       "66  1787245.254     4    42.595039       21.2  \n",
       "67  1685688.525     4    49.542646       29.4  \n",
       "68  2047514.484     4    55.082172       18.3  \n",
       "69  2706173.278     4    44.954538       20.0  \n",
       "70  2091035.929     4    50.441103       18.2  \n",
       "\n",
       "[71 rows x 8 columns]"
      ]
     },
     "execution_count": 13,
     "metadata": {},
     "output_type": "execute_result"
    }
   ],
   "source": [
    "data"
   ]
  },
  {
   "cell_type": "code",
   "execution_count": 14,
   "metadata": {},
   "outputs": [],
   "source": [
    "data=data.drop(\"클러스터\",axis=1)"
   ]
  },
  {
   "cell_type": "code",
   "execution_count": 20,
   "metadata": {},
   "outputs": [
    {
     "name": "stdout",
     "output_type": "stream",
     "text": [
      "설명가능한 분산량: [9.99916968e-01 7.87536709e-05]\n"
     ]
    }
   ],
   "source": [
    "#PCA 의미가 없음 \n",
    "pca = PCA(n_components=2) #분산설명량 체크하면서 바꿈\n",
    "# 데이터를 PCA 모델에 적합 (주성분 찾기)\n",
    "pca.fit(data.iloc[:,1:])\n",
    "\n",
    "# 데이터를 주성분으로 변환\n",
    "transformed_data = pca.transform(data.iloc[:,1:])\n",
    "\n",
    "# 설명가능한 분산량 (explained variance) 출력\n",
    "explained_variance = pca.explained_variance_ratio_\n",
    "print(\"설명가능한 분산량:\", explained_variance)"
   ]
  },
  {
   "cell_type": "code",
   "execution_count": 17,
   "metadata": {},
   "outputs": [
    {
     "data": {
      "text/plain": [
       "array([[  321171.30847757],\n",
       "       [ 1331291.89849363],\n",
       "       [ 1841729.40430072],\n",
       "       [  415100.03543999],\n",
       "       [ -373100.93246221],\n",
       "       [ 1024094.52390564],\n",
       "       [  182370.98387052],\n",
       "       [  542219.71640505],\n",
       "       [ -514536.95727941],\n",
       "       [ -839162.34236708],\n",
       "       [   69218.28604023],\n",
       "       [  234677.83754251],\n",
       "       [  606207.95248788],\n",
       "       [ -400647.17718195],\n",
       "       [  819152.36790817],\n",
       "       [  404009.74623132],\n",
       "       [ -267548.27667815],\n",
       "       [ -174684.84399695],\n",
       "       [ -488049.64960353],\n",
       "       [ -245051.64270102],\n",
       "       [ 1049404.68597247],\n",
       "       [ 1729872.80750135],\n",
       "       [  737101.03826737],\n",
       "       [ -450155.07527061],\n",
       "       [ 2493171.96587002],\n",
       "       [-1235235.37373081],\n",
       "       [ -924528.04272969],\n",
       "       [-1280434.33179906],\n",
       "       [-1135109.1235558 ],\n",
       "       [-1129714.1972558 ],\n",
       "       [  388551.48156248],\n",
       "       [  522495.73188714],\n",
       "       [  235024.00941241],\n",
       "       [ -869396.97979054],\n",
       "       [ -998659.39588548],\n",
       "       [  240679.49555723],\n",
       "       [ -365954.44332675],\n",
       "       [ 1036485.37786438],\n",
       "       [ -376696.81409946],\n",
       "       [ -441960.55808102],\n",
       "       [  672253.9348591 ],\n",
       "       [  814982.78938561],\n",
       "       [ -934129.76022054],\n",
       "       [  223045.7609361 ],\n",
       "       [  -84176.02191531],\n",
       "       [  326239.27840363],\n",
       "       [ -885026.7157126 ],\n",
       "       [ -468903.10888027],\n",
       "       [  845309.30464441],\n",
       "       [ -970318.5571555 ],\n",
       "       [  245756.87568139],\n",
       "       [ -735702.36243386],\n",
       "       [-1300490.46893221],\n",
       "       [   25021.15526925],\n",
       "       [  -42160.18491719],\n",
       "       [ -714668.15483754],\n",
       "       [   56464.89637637],\n",
       "       [  723584.33869069],\n",
       "       [ -800818.77504206],\n",
       "       [  719420.46748216],\n",
       "       [-1595343.09834146],\n",
       "       [ -856291.70732979],\n",
       "       [ 1262978.96736172],\n",
       "       [  490177.5093025 ],\n",
       "       [   77468.72499499],\n",
       "       [   44885.01823243],\n",
       "       [ -446864.03869067],\n",
       "       [ -548526.6210657 ],\n",
       "       [ -186694.18930472],\n",
       "       [  472234.60737865],\n",
       "       [ -143114.36142238]])"
      ]
     },
     "execution_count": 17,
     "metadata": {},
     "output_type": "execute_result"
    }
   ],
   "source": [
    "transformed_data"
   ]
  },
  {
   "cell_type": "code",
   "execution_count": 21,
   "metadata": {},
   "outputs": [
    {
     "data": {
      "text/plain": [
       "FactorAnalyzer(n_factors=5, rotation=None, rotation_kwargs={})"
      ]
     },
     "execution_count": 21,
     "metadata": {},
     "output_type": "execute_result"
    }
   ],
   "source": [
    "factor_analyzer = FactorAnalyzer(n_factors=5, rotation=None)  # 25는 예상되는 요인의 수입니다. 적절한 수를 선택하여 수정\n",
    "factor_analyzer.fit(transformed_data)\n",
    "\n"
   ]
  },
  {
   "cell_type": "code",
   "execution_count": 22,
   "metadata": {},
   "outputs": [
    {
     "data": {
      "text/plain": [
       "array([[3.88190796e-07, 0.00000000e+00],\n",
       "       [3.88190796e-07, 0.00000000e+00]])"
      ]
     },
     "execution_count": 22,
     "metadata": {},
     "output_type": "execute_result"
    }
   ],
   "source": [
    "factor_analyzer.loadings_"
   ]
  },
  {
   "cell_type": "code",
   "execution_count": 24,
   "metadata": {},
   "outputs": [
    {
     "data": {
      "text/plain": [
       "FactorAnalyzer(rotation=None, rotation_kwargs={})"
      ]
     },
     "execution_count": 24,
     "metadata": {},
     "output_type": "execute_result"
    }
   ],
   "source": [
    "#PCA 가 필요없음\n",
    "factor_analyzer = FactorAnalyzer(n_factors=3, rotation=None)  # 25는 예상되는 요인의 수입니다. 적절한 수를 선택하여 수정\n",
    "factor_analyzer.fit(data.iloc[:,1:])"
   ]
  },
  {
   "cell_type": "code",
   "execution_count": 26,
   "metadata": {},
   "outputs": [
    {
     "name": "stdout",
     "output_type": "stream",
     "text": [
      "[[ 0.92826645 -0.21590329 -0.29528919]\n",
      " [ 0.91486063 -0.24103505  0.31819063]\n",
      " [ 0.92730678 -0.21818431  0.21168944]\n",
      " [ 0.91467399  0.31016101 -0.24883448]\n",
      " [ 0.08723572  0.94344857  0.14172401]\n",
      " [ 0.43885309  0.58619711  0.00443187]]\n"
     ]
    }
   ],
   "source": [
    "print(factor_analyzer.loadings_)"
   ]
  },
  {
   "cell_type": "code",
   "execution_count": 36,
   "metadata": {},
   "outputs": [],
   "source": [
    "factor_analyzer.loadings_[abs(factor_analyzer.loadings_)<0.3]=0"
   ]
  },
  {
   "cell_type": "code",
   "execution_count": 37,
   "metadata": {},
   "outputs": [
    {
     "data": {
      "text/plain": [
       "array([[0.92826645, 0.        , 0.        ],\n",
       "       [0.91486063, 0.        , 0.31819063],\n",
       "       [0.92730678, 0.        , 0.        ],\n",
       "       [0.91467399, 0.31016101, 0.        ],\n",
       "       [0.        , 0.94344857, 0.        ],\n",
       "       [0.43885309, 0.58619711, 0.        ]])"
      ]
     },
     "execution_count": 37,
     "metadata": {},
     "output_type": "execute_result"
    }
   ],
   "source": [
    "factor_analyzer.loadings_"
   ]
  }
 ],
 "metadata": {
  "kernelspec": {
   "display_name": "base",
   "language": "python",
   "name": "python3"
  },
  "language_info": {
   "codemirror_mode": {
    "name": "ipython",
    "version": 3
   },
   "file_extension": ".py",
   "mimetype": "text/x-python",
   "name": "python",
   "nbconvert_exporter": "python",
   "pygments_lexer": "ipython3",
   "version": "3.9.12"
  }
 },
 "nbformat": 4,
 "nbformat_minor": 2
}
