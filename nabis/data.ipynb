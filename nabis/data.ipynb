{
 "cells": [
  {
   "cell_type": "code",
   "execution_count": 1,
   "metadata": {},
   "outputs": [],
   "source": [
    "import pandas as pd\n",
    "import numpy as np"
   ]
  },
  {
   "cell_type": "markdown",
   "metadata": {},
   "source": [
    "# 주민등록,전입,전출"
   ]
  },
  {
   "cell_type": "code",
   "execution_count": 11,
   "metadata": {},
   "outputs": [],
   "source": [
    "#주민등록인구\n",
    "data1 = pd.read_csv(\"C:/Users/user/Desktop/데분/202306_202306_주민등록인구및세대현황_월간.csv\", encoding = 'cp949')\n",
    "\n",
    "#전입인구 \n",
    "data2 = pd.read_csv(\"C:/Users/user/Desktop/데분/전입인구(시도시군구).csv\", encoding = 'cp949')\n",
    "\n",
    "#전출인구\n",
    "data3 = pd.read_csv(\"C:/Users/user/Desktop/데분/전출인구(시도시군구).csv\", encoding = 'cp949')"
   ]
  },
  {
   "cell_type": "code",
   "execution_count": 12,
   "metadata": {},
   "outputs": [],
   "source": [
    "data1['행정구역'] = data1['행정구역'].str.replace(r'\\s*\\([^)]*\\)', '', regex=True)\n",
    "data1['행정구역'] = data1['행정구역'].str.split().str.get(-1)"
   ]
  },
  {
   "cell_type": "code",
   "execution_count": 13,
   "metadata": {},
   "outputs": [],
   "source": [
    "data1.loc[data1['행정구역'] == '고성군', '행정구역'] = ['고성군(강원)', '고성군(경남)']"
   ]
  },
  {
   "cell_type": "code",
   "execution_count": 14,
   "metadata": {},
   "outputs": [],
   "source": [
    "data2['전입인구(2022.1~2023.5)'] = data2[['2022', '2022.1', '2022.2', '2022.3', '2022.4', '2022.5', '2022.6', '2022.7', '2022.8', '2022.9', '2022.10', '2022.11', '2023', '2023.1', '2023.2', '2023.3', '2023.4']].sum(axis=1)\n",
    "data3['전출인구(2022.1~2023.5)'] = data3[['2022', '2022.1', '2022.2', '2022.3', '2022.4', '2022.5', '2022.6', '2022.7', '2022.8', '2022.9', '2022.10', '2022.11', '2023', '2023.1', '2023.2', '2023.3', '2023.4']].sum(axis=1)\n"
   ]
  },
  {
   "cell_type": "code",
   "execution_count": 15,
   "metadata": {},
   "outputs": [],
   "source": [
    "data2.loc[data2['구분'] == '고성군', '구분'] = ['고성군(강원)', '고성군(경남)']\n",
    "data3.loc[data3['구분'] == '고성군', '구분'] = ['고성군(강원)', '고성군(경남)']"
   ]
  },
  {
   "cell_type": "code",
   "execution_count": 16,
   "metadata": {},
   "outputs": [],
   "source": [
    "col1 = data2[['구분','전입인구(2022.1~2023.5)']]\n",
    "col2 = data3[['구분','전출인구(2022.1~2023.5)']]"
   ]
  },
  {
   "cell_type": "code",
   "execution_count": 17,
   "metadata": {},
   "outputs": [],
   "source": [
    "col1 = col1.iloc[1:]\n",
    "col2 = col2.iloc[1:]"
   ]
  },
  {
   "cell_type": "code",
   "execution_count": 18,
   "metadata": {},
   "outputs": [],
   "source": [
    "df1 = pd.merge(col1,col2, how = 'inner', on = '구분')"
   ]
  },
  {
   "cell_type": "code",
   "execution_count": 19,
   "metadata": {},
   "outputs": [],
   "source": [
    "df1.rename(columns = {'구분':'행정구역'}, inplace = True)"
   ]
  },
  {
   "cell_type": "code",
   "execution_count": 20,
   "metadata": {},
   "outputs": [],
   "source": [
    "df1 = pd.merge(data1, df1, how = 'inner', on = '행정구역')"
   ]
  },
  {
   "cell_type": "code",
   "execution_count": 22,
   "metadata": {},
   "outputs": [],
   "source": [
    "df1.to_csv('C:/Users/user/Desktop/데분/df1.csv',index=False)"
   ]
  },
  {
   "cell_type": "markdown",
   "metadata": {},
   "source": [
    "# 사업체 수, 매출액, 문화시설 기반 수, 의료시설 기반 수"
   ]
  },
  {
   "cell_type": "code",
   "execution_count": 70,
   "metadata": {},
   "outputs": [],
   "source": [
    "#사업체\n",
    "data1 = pd.read_csv(\"C:/Users/user/Desktop/데분/인구_천명당_사업체수(시도시군구).csv\", encoding = 'cp949')\n",
    "\n",
    "#의료시설\n",
    "data2 = pd.read_csv(\"C:/Users/user/Desktop/데분/인구_천명당_의료기관병상수(시도시군구).csv\", encoding = 'cp949')\n",
    "\n",
    "#문화시설\n",
    "data3 = pd.read_csv(\"C:/Users/user/Desktop/데분/인구_십만명당_문화기반시설수(시도시군구).csv\", encoding = 'cp949')"
   ]
  },
  {
   "cell_type": "code",
   "execution_count": 71,
   "metadata": {},
   "outputs": [],
   "source": [
    "data1.loc[data1['구분'] == '고성군', '구분'] = ['고성군(강원)', '고성군(경남)']\n",
    "data2.loc[data2['구분'] == '고성군', '구분'] = ['고성군(강원)', '고성군(경남)']\n",
    "data3.loc[data3['구분'] == '고성군', '구분'] = ['고성군(강원)', '고성군(경남)']"
   ]
  },
  {
   "cell_type": "code",
   "execution_count": 72,
   "metadata": {},
   "outputs": [],
   "source": [
    "data1.rename(columns = {'2020':'2020_사업체수',\n",
    "                        '2021':'2021_사업체수'}, inplace = True)\n",
    "data2.rename(columns = {'2020':'2020_인구천명당_의료기관병상수',\n",
    "                        '2021':'2021_인구천명당_의료기관병상수'}, inplace = True)\n",
    "data3.rename(columns = {'2020':'2020_인구십만명당_문화기반시설수',\n",
    "                        '2021':'2021_인구십만명당_문화기반시설수'}, inplace = True)"
   ]
  },
  {
   "cell_type": "code",
   "execution_count": 73,
   "metadata": {},
   "outputs": [],
   "source": [
    "df2 = pd.merge(data1,data2, how = 'inner', on = '구분')"
   ]
  },
  {
   "cell_type": "code",
   "execution_count": 74,
   "metadata": {},
   "outputs": [],
   "source": [
    "df2 = pd.merge(df2, data3, how = 'inner', on = '구분')"
   ]
  },
  {
   "cell_type": "code",
   "execution_count": 75,
   "metadata": {},
   "outputs": [],
   "source": [
    "df2.rename(columns = {'구분':'행정구역'}, inplace = True)"
   ]
  },
  {
   "cell_type": "code",
   "execution_count": 76,
   "metadata": {},
   "outputs": [
    {
     "data": {
      "text/html": [
       "<div>\n",
       "<style scoped>\n",
       "    .dataframe tbody tr th:only-of-type {\n",
       "        vertical-align: middle;\n",
       "    }\n",
       "\n",
       "    .dataframe tbody tr th {\n",
       "        vertical-align: top;\n",
       "    }\n",
       "\n",
       "    .dataframe thead th {\n",
       "        text-align: right;\n",
       "    }\n",
       "</style>\n",
       "<table border=\"1\" class=\"dataframe\">\n",
       "  <thead>\n",
       "    <tr style=\"text-align: right;\">\n",
       "      <th></th>\n",
       "      <th>행정구역</th>\n",
       "      <th>2020_사업체수</th>\n",
       "      <th>2021_사업체수</th>\n",
       "      <th>2020_인구천명당_의료기관병상수</th>\n",
       "      <th>2021_인구천명당_의료기관병상수</th>\n",
       "      <th>2020_인구십만명당_문화기반시설수</th>\n",
       "      <th>2021_인구십만명당_문화기반시설수</th>\n",
       "    </tr>\n",
       "  </thead>\n",
       "  <tbody>\n",
       "    <tr>\n",
       "      <th>0</th>\n",
       "      <td>세종특별자치시</td>\n",
       "      <td>80.1</td>\n",
       "      <td>82.0</td>\n",
       "      <td>5.6</td>\n",
       "      <td>5.6</td>\n",
       "      <td>6.5</td>\n",
       "      <td>6.5</td>\n",
       "    </tr>\n",
       "    <tr>\n",
       "      <th>1</th>\n",
       "      <td>춘천시</td>\n",
       "      <td>114.5</td>\n",
       "      <td>115.8</td>\n",
       "      <td>14.7</td>\n",
       "      <td>14.9</td>\n",
       "      <td>10.6</td>\n",
       "      <td>10.9</td>\n",
       "    </tr>\n",
       "    <tr>\n",
       "      <th>2</th>\n",
       "      <td>원주시</td>\n",
       "      <td>115.7</td>\n",
       "      <td>119.6</td>\n",
       "      <td>13.6</td>\n",
       "      <td>15.0</td>\n",
       "      <td>5.9</td>\n",
       "      <td>5.9</td>\n",
       "    </tr>\n",
       "    <tr>\n",
       "      <th>3</th>\n",
       "      <td>강릉시</td>\n",
       "      <td>131.2</td>\n",
       "      <td>136.3</td>\n",
       "      <td>12.5</td>\n",
       "      <td>12.4</td>\n",
       "      <td>14.1</td>\n",
       "      <td>14.1</td>\n",
       "    </tr>\n",
       "    <tr>\n",
       "      <th>4</th>\n",
       "      <td>동해시</td>\n",
       "      <td>122.6</td>\n",
       "      <td>126.5</td>\n",
       "      <td>15.9</td>\n",
       "      <td>14.5</td>\n",
       "      <td>7.7</td>\n",
       "      <td>7.8</td>\n",
       "    </tr>\n",
       "    <tr>\n",
       "      <th>...</th>\n",
       "      <td>...</td>\n",
       "      <td>...</td>\n",
       "      <td>...</td>\n",
       "      <td>...</td>\n",
       "      <td>...</td>\n",
       "      <td>...</td>\n",
       "      <td>...</td>\n",
       "    </tr>\n",
       "    <tr>\n",
       "      <th>119</th>\n",
       "      <td>함양군</td>\n",
       "      <td>116.3</td>\n",
       "      <td>126.3</td>\n",
       "      <td>4.1</td>\n",
       "      <td>4.2</td>\n",
       "      <td>10.2</td>\n",
       "      <td>10.4</td>\n",
       "    </tr>\n",
       "    <tr>\n",
       "      <th>120</th>\n",
       "      <td>거창군</td>\n",
       "      <td>119.6</td>\n",
       "      <td>125.5</td>\n",
       "      <td>13.5</td>\n",
       "      <td>13.6</td>\n",
       "      <td>9.8</td>\n",
       "      <td>9.8</td>\n",
       "    </tr>\n",
       "    <tr>\n",
       "      <th>121</th>\n",
       "      <td>합천군</td>\n",
       "      <td>114.6</td>\n",
       "      <td>127.4</td>\n",
       "      <td>18.1</td>\n",
       "      <td>20.2</td>\n",
       "      <td>13.6</td>\n",
       "      <td>14.0</td>\n",
       "    </tr>\n",
       "    <tr>\n",
       "      <th>122</th>\n",
       "      <td>제주시</td>\n",
       "      <td>142.2</td>\n",
       "      <td>144.8</td>\n",
       "      <td>8.9</td>\n",
       "      <td>9.2</td>\n",
       "      <td>14.4</td>\n",
       "      <td>14.0</td>\n",
       "    </tr>\n",
       "    <tr>\n",
       "      <th>123</th>\n",
       "      <td>서귀포시</td>\n",
       "      <td>131.5</td>\n",
       "      <td>134.6</td>\n",
       "      <td>2.9</td>\n",
       "      <td>3.0</td>\n",
       "      <td>35.1</td>\n",
       "      <td>33.2</td>\n",
       "    </tr>\n",
       "  </tbody>\n",
       "</table>\n",
       "<p>124 rows × 7 columns</p>\n",
       "</div>"
      ],
      "text/plain": [
       "        행정구역  2020_사업체수  2021_사업체수  2020_인구천명당_의료기관병상수  2021_인구천명당_의료기관병상수  \\\n",
       "0    세종특별자치시       80.1       82.0                 5.6                 5.6   \n",
       "1        춘천시      114.5      115.8                14.7                14.9   \n",
       "2        원주시      115.7      119.6                13.6                15.0   \n",
       "3        강릉시      131.2      136.3                12.5                12.4   \n",
       "4        동해시      122.6      126.5                15.9                14.5   \n",
       "..       ...        ...        ...                 ...                 ...   \n",
       "119      함양군      116.3      126.3                 4.1                 4.2   \n",
       "120      거창군      119.6      125.5                13.5                13.6   \n",
       "121      합천군      114.6      127.4                18.1                20.2   \n",
       "122      제주시      142.2      144.8                 8.9                 9.2   \n",
       "123     서귀포시      131.5      134.6                 2.9                 3.0   \n",
       "\n",
       "     2020_인구십만명당_문화기반시설수  2021_인구십만명당_문화기반시설수  \n",
       "0                    6.5                  6.5  \n",
       "1                   10.6                 10.9  \n",
       "2                    5.9                  5.9  \n",
       "3                   14.1                 14.1  \n",
       "4                    7.7                  7.8  \n",
       "..                   ...                  ...  \n",
       "119                 10.2                 10.4  \n",
       "120                  9.8                  9.8  \n",
       "121                 13.6                 14.0  \n",
       "122                 14.4                 14.0  \n",
       "123                 35.1                 33.2  \n",
       "\n",
       "[124 rows x 7 columns]"
      ]
     },
     "execution_count": 76,
     "metadata": {},
     "output_type": "execute_result"
    }
   ],
   "source": [
    "df2"
   ]
  },
  {
   "cell_type": "code",
   "execution_count": 77,
   "metadata": {},
   "outputs": [],
   "source": [
    "df2.to_csv('C:/Users/user/Desktop/데분/df2.csv',index=False)"
   ]
  },
  {
   "cell_type": "markdown",
   "metadata": {},
   "source": [
    "# 초등학교 수, 사설 학원 수, 주택 수, 매매,월세,전세 가격지수"
   ]
  },
  {
   "cell_type": "code",
   "execution_count": 63,
   "metadata": {},
   "outputs": [],
   "source": [
    "#학원\n",
    "data1 = pd.read_csv('C:/Users/user/Desktop/데분/인구 천명당 사설학원수(시도시군구).csv', encoding = 'cp949')\n",
    "\n",
    "#초등학교\n",
    "data2 = pd.read_csv('C:/Users/user/Desktop/데분/초등학교수(시도시군구).csv', encoding = 'cp949')\n",
    "\n",
    "#주택수\n",
    "data3 = pd.read_csv('C:/Users/user/Desktop/데분/주택수(시도시군구).csv', encoding = 'cp949')\n"
   ]
  },
  {
   "cell_type": "code",
   "execution_count": 64,
   "metadata": {},
   "outputs": [],
   "source": [
    "data1.loc[data1['구분'] == '고성군', '구분'] = ['고성군(강원)', '고성군(경남)']\n",
    "data2.loc[data2['구분'] == '고성군', '구분'] = ['고성군(강원)', '고성군(경남)']\n",
    "data3.loc[data3['구분'] == '고성군', '구분'] = ['고성군(강원)', '고성군(경남)']"
   ]
  },
  {
   "cell_type": "code",
   "execution_count": 65,
   "metadata": {},
   "outputs": [
    {
     "data": {
      "text/html": [
       "<div>\n",
       "<style scoped>\n",
       "    .dataframe tbody tr th:only-of-type {\n",
       "        vertical-align: middle;\n",
       "    }\n",
       "\n",
       "    .dataframe tbody tr th {\n",
       "        vertical-align: top;\n",
       "    }\n",
       "\n",
       "    .dataframe thead th {\n",
       "        text-align: right;\n",
       "    }\n",
       "</style>\n",
       "<table border=\"1\" class=\"dataframe\">\n",
       "  <thead>\n",
       "    <tr style=\"text-align: right;\">\n",
       "      <th></th>\n",
       "      <th>구분</th>\n",
       "      <th>2021</th>\n",
       "      <th>2022</th>\n",
       "    </tr>\n",
       "  </thead>\n",
       "  <tbody>\n",
       "    <tr>\n",
       "      <th>0</th>\n",
       "      <td>세종특별자치시</td>\n",
       "      <td>143798</td>\n",
       "      <td>150278</td>\n",
       "    </tr>\n",
       "    <tr>\n",
       "      <th>1</th>\n",
       "      <td>춘천시</td>\n",
       "      <td>105579</td>\n",
       "      <td>108577</td>\n",
       "    </tr>\n",
       "    <tr>\n",
       "      <th>2</th>\n",
       "      <td>원주시</td>\n",
       "      <td>143538</td>\n",
       "      <td>146861</td>\n",
       "    </tr>\n",
       "    <tr>\n",
       "      <th>3</th>\n",
       "      <td>강릉시</td>\n",
       "      <td>89259</td>\n",
       "      <td>89894</td>\n",
       "    </tr>\n",
       "    <tr>\n",
       "      <th>4</th>\n",
       "      <td>동해시</td>\n",
       "      <td>41536</td>\n",
       "      <td>42187</td>\n",
       "    </tr>\n",
       "    <tr>\n",
       "      <th>...</th>\n",
       "      <td>...</td>\n",
       "      <td>...</td>\n",
       "      <td>...</td>\n",
       "    </tr>\n",
       "    <tr>\n",
       "      <th>119</th>\n",
       "      <td>함양군</td>\n",
       "      <td>18902</td>\n",
       "      <td>18899</td>\n",
       "    </tr>\n",
       "    <tr>\n",
       "      <th>120</th>\n",
       "      <td>거창군</td>\n",
       "      <td>27149</td>\n",
       "      <td>27272</td>\n",
       "    </tr>\n",
       "    <tr>\n",
       "      <th>121</th>\n",
       "      <td>합천군</td>\n",
       "      <td>23525</td>\n",
       "      <td>23559</td>\n",
       "    </tr>\n",
       "    <tr>\n",
       "      <th>122</th>\n",
       "      <td>제주시</td>\n",
       "      <td>175552</td>\n",
       "      <td>177771</td>\n",
       "    </tr>\n",
       "    <tr>\n",
       "      <th>123</th>\n",
       "      <td>서귀포시</td>\n",
       "      <td>74077</td>\n",
       "      <td>75092</td>\n",
       "    </tr>\n",
       "  </tbody>\n",
       "</table>\n",
       "<p>124 rows × 3 columns</p>\n",
       "</div>"
      ],
      "text/plain": [
       "          구분    2021    2022\n",
       "0    세종특별자치시  143798  150278\n",
       "1        춘천시  105579  108577\n",
       "2        원주시  143538  146861\n",
       "3        강릉시   89259   89894\n",
       "4        동해시   41536   42187\n",
       "..       ...     ...     ...\n",
       "119      함양군   18902   18899\n",
       "120      거창군   27149   27272\n",
       "121      합천군   23525   23559\n",
       "122      제주시  175552  177771\n",
       "123     서귀포시   74077   75092\n",
       "\n",
       "[124 rows x 3 columns]"
      ]
     },
     "execution_count": 65,
     "metadata": {},
     "output_type": "execute_result"
    }
   ],
   "source": [
    "data3"
   ]
  },
  {
   "cell_type": "code",
   "execution_count": 66,
   "metadata": {},
   "outputs": [],
   "source": [
    "data1.rename(columns = {'2021':'2021_인구천명당_사설학원수',\n",
    "                        '2022':'2022_인구천명당_사설학원수'}, inplace = True)\n",
    "data2.rename(columns = {'2022':'2022_초등학교수',\n",
    "                        '2023':'2023_초등학교수'}, inplace = True)\n",
    "data3.rename(columns = {'2021':'2021_주택수',\n",
    "                        '2022':'2022_주택수'}, inplace = True)"
   ]
  },
  {
   "cell_type": "code",
   "execution_count": 67,
   "metadata": {},
   "outputs": [],
   "source": [
    "df3 = pd.merge(data1,data2, how = 'inner', on = '구분')\n",
    "df3 = pd.merge(df3, data3, how = 'inner', on = '구분')"
   ]
  },
  {
   "cell_type": "code",
   "execution_count": 68,
   "metadata": {},
   "outputs": [
    {
     "data": {
      "text/html": [
       "<div>\n",
       "<style scoped>\n",
       "    .dataframe tbody tr th:only-of-type {\n",
       "        vertical-align: middle;\n",
       "    }\n",
       "\n",
       "    .dataframe tbody tr th {\n",
       "        vertical-align: top;\n",
       "    }\n",
       "\n",
       "    .dataframe thead th {\n",
       "        text-align: right;\n",
       "    }\n",
       "</style>\n",
       "<table border=\"1\" class=\"dataframe\">\n",
       "  <thead>\n",
       "    <tr style=\"text-align: right;\">\n",
       "      <th></th>\n",
       "      <th>행정구역</th>\n",
       "      <th>2021_인구천명당_사설학원수</th>\n",
       "      <th>2022_인구천명당_사설학원수</th>\n",
       "      <th>2022_초등학교수</th>\n",
       "      <th>2023_초등학교수</th>\n",
       "      <th>2021_주택수</th>\n",
       "      <th>2022_주택수</th>\n",
       "    </tr>\n",
       "  </thead>\n",
       "  <tbody>\n",
       "    <tr>\n",
       "      <th>0</th>\n",
       "      <td>세종특별자치시</td>\n",
       "      <td>2.2</td>\n",
       "      <td>2.4</td>\n",
       "      <td>52</td>\n",
       "      <td>53</td>\n",
       "      <td>143798</td>\n",
       "      <td>150278</td>\n",
       "    </tr>\n",
       "    <tr>\n",
       "      <th>1</th>\n",
       "      <td>춘천시</td>\n",
       "      <td>1.5</td>\n",
       "      <td>1.6</td>\n",
       "      <td>41</td>\n",
       "      <td>41</td>\n",
       "      <td>105579</td>\n",
       "      <td>108577</td>\n",
       "    </tr>\n",
       "    <tr>\n",
       "      <th>2</th>\n",
       "      <td>원주시</td>\n",
       "      <td>1.7</td>\n",
       "      <td>1.8</td>\n",
       "      <td>51</td>\n",
       "      <td>51</td>\n",
       "      <td>143538</td>\n",
       "      <td>146861</td>\n",
       "    </tr>\n",
       "    <tr>\n",
       "      <th>3</th>\n",
       "      <td>강릉시</td>\n",
       "      <td>2.0</td>\n",
       "      <td>2.1</td>\n",
       "      <td>36</td>\n",
       "      <td>36</td>\n",
       "      <td>89259</td>\n",
       "      <td>89894</td>\n",
       "    </tr>\n",
       "    <tr>\n",
       "      <th>4</th>\n",
       "      <td>동해시</td>\n",
       "      <td>1.5</td>\n",
       "      <td>1.6</td>\n",
       "      <td>14</td>\n",
       "      <td>14</td>\n",
       "      <td>41536</td>\n",
       "      <td>42187</td>\n",
       "    </tr>\n",
       "    <tr>\n",
       "      <th>...</th>\n",
       "      <td>...</td>\n",
       "      <td>...</td>\n",
       "      <td>...</td>\n",
       "      <td>...</td>\n",
       "      <td>...</td>\n",
       "      <td>...</td>\n",
       "      <td>...</td>\n",
       "    </tr>\n",
       "    <tr>\n",
       "      <th>119</th>\n",
       "      <td>함양군</td>\n",
       "      <td>1.0</td>\n",
       "      <td>1.1</td>\n",
       "      <td>13</td>\n",
       "      <td>13</td>\n",
       "      <td>18902</td>\n",
       "      <td>18899</td>\n",
       "    </tr>\n",
       "    <tr>\n",
       "      <th>120</th>\n",
       "      <td>거창군</td>\n",
       "      <td>1.4</td>\n",
       "      <td>1.4</td>\n",
       "      <td>17</td>\n",
       "      <td>17</td>\n",
       "      <td>27149</td>\n",
       "      <td>27272</td>\n",
       "    </tr>\n",
       "    <tr>\n",
       "      <th>121</th>\n",
       "      <td>합천군</td>\n",
       "      <td>0.7</td>\n",
       "      <td>0.7</td>\n",
       "      <td>17</td>\n",
       "      <td>17</td>\n",
       "      <td>23525</td>\n",
       "      <td>23559</td>\n",
       "    </tr>\n",
       "    <tr>\n",
       "      <th>122</th>\n",
       "      <td>제주시</td>\n",
       "      <td>1.8</td>\n",
       "      <td>1.9</td>\n",
       "      <td>68</td>\n",
       "      <td>68</td>\n",
       "      <td>175552</td>\n",
       "      <td>177771</td>\n",
       "    </tr>\n",
       "    <tr>\n",
       "      <th>123</th>\n",
       "      <td>서귀포시</td>\n",
       "      <td>1.1</td>\n",
       "      <td>1.3</td>\n",
       "      <td>44</td>\n",
       "      <td>44</td>\n",
       "      <td>74077</td>\n",
       "      <td>75092</td>\n",
       "    </tr>\n",
       "  </tbody>\n",
       "</table>\n",
       "<p>124 rows × 7 columns</p>\n",
       "</div>"
      ],
      "text/plain": [
       "        행정구역  2021_인구천명당_사설학원수  2022_인구천명당_사설학원수  2022_초등학교수  2023_초등학교수  \\\n",
       "0    세종특별자치시               2.2               2.4          52          53   \n",
       "1        춘천시               1.5               1.6          41          41   \n",
       "2        원주시               1.7               1.8          51          51   \n",
       "3        강릉시               2.0               2.1          36          36   \n",
       "4        동해시               1.5               1.6          14          14   \n",
       "..       ...               ...               ...         ...         ...   \n",
       "119      함양군               1.0               1.1          13          13   \n",
       "120      거창군               1.4               1.4          17          17   \n",
       "121      합천군               0.7               0.7          17          17   \n",
       "122      제주시               1.8               1.9          68          68   \n",
       "123     서귀포시               1.1               1.3          44          44   \n",
       "\n",
       "     2021_주택수  2022_주택수  \n",
       "0      143798    150278  \n",
       "1      105579    108577  \n",
       "2      143538    146861  \n",
       "3       89259     89894  \n",
       "4       41536     42187  \n",
       "..        ...       ...  \n",
       "119     18902     18899  \n",
       "120     27149     27272  \n",
       "121     23525     23559  \n",
       "122    175552    177771  \n",
       "123     74077     75092  \n",
       "\n",
       "[124 rows x 7 columns]"
      ]
     },
     "execution_count": 68,
     "metadata": {},
     "output_type": "execute_result"
    }
   ],
   "source": [
    "df3.rename(columns = {'구분':'행정구역'}, inplace = True)\n",
    "df3"
   ]
  },
  {
   "cell_type": "code",
   "execution_count": 69,
   "metadata": {},
   "outputs": [],
   "source": [
    "df3.to_csv('C:/Users/user/Desktop/데분/df3.csv',index=False)"
   ]
  },
  {
   "cell_type": "markdown",
   "metadata": {},
   "source": [
    "# 소멸위험도, 출산율"
   ]
  },
  {
   "cell_type": "code",
   "execution_count": 69,
   "metadata": {},
   "outputs": [],
   "source": [
    "data1 = pd.read_csv('C:/Users/user/Desktop/데분/소멸위험도.csv')\n",
    "data2 = pd.read_csv('C:/Users/user/Desktop/데분/출산율2122.csv')\n"
   ]
  },
  {
   "cell_type": "code",
   "execution_count": 70,
   "metadata": {},
   "outputs": [],
   "source": [
    "data1 = data1.iloc[:,1:-1]"
   ]
  },
  {
   "cell_type": "code",
   "execution_count": 71,
   "metadata": {},
   "outputs": [],
   "source": [
    "# 숫자열에 대해 콤마 제거 및 정수로 변환\n",
    "columns_to_process = data1.columns[1:]  # 첫 번째 열을 제외한 열 선택\n",
    "\n",
    "for column in columns_to_process:\n",
    "    data1[column] = data1[column].apply(lambda x: int(str(x).replace(',', '')))\n"
   ]
  },
  {
   "cell_type": "code",
   "execution_count": 72,
   "metadata": {},
   "outputs": [],
   "source": [
    "data1['지방소멸위험도'] = (data1['2023년09월_여_20~24세'] + data1['2023년09월_여_25~29세'] + data1['2023년09월_여_30~34세'] + data1['2023년09월_여_35~39세'])/(data1['2023년09월_계_65~69세'] + data1['2023년09월_계_70~74세'] + data1['2023년09월_계_75~79세'] + data1['2023년09월_계_80~84세'] + data1['2023년09월_계_85~89세'] + data1['2023년09월_계_90~94세'] + data1['2023년09월_계_95~99세'] + data1['2023년09월_계_100세 이상'])"
   ]
  },
  {
   "cell_type": "code",
   "execution_count": 73,
   "metadata": {},
   "outputs": [],
   "source": [
    "data1 = data1[['행정구역','지방소멸위험도']]"
   ]
  },
  {
   "cell_type": "code",
   "execution_count": 74,
   "metadata": {},
   "outputs": [
    {
     "data": {
      "text/html": [
       "<div>\n",
       "<style scoped>\n",
       "    .dataframe tbody tr th:only-of-type {\n",
       "        vertical-align: middle;\n",
       "    }\n",
       "\n",
       "    .dataframe tbody tr th {\n",
       "        vertical-align: top;\n",
       "    }\n",
       "\n",
       "    .dataframe thead th {\n",
       "        text-align: right;\n",
       "    }\n",
       "</style>\n",
       "<table border=\"1\" class=\"dataframe\">\n",
       "  <thead>\n",
       "    <tr style=\"text-align: right;\">\n",
       "      <th></th>\n",
       "      <th>행정구역</th>\n",
       "      <th>지방소멸위험도</th>\n",
       "    </tr>\n",
       "  </thead>\n",
       "  <tbody>\n",
       "    <tr>\n",
       "      <th>0</th>\n",
       "      <td>세종특별자치시</td>\n",
       "      <td>1.166472</td>\n",
       "    </tr>\n",
       "    <tr>\n",
       "      <th>1</th>\n",
       "      <td>춘천시</td>\n",
       "      <td>0.582734</td>\n",
       "    </tr>\n",
       "    <tr>\n",
       "      <th>2</th>\n",
       "      <td>원주시</td>\n",
       "      <td>0.663052</td>\n",
       "    </tr>\n",
       "    <tr>\n",
       "      <th>3</th>\n",
       "      <td>강릉시</td>\n",
       "      <td>0.387068</td>\n",
       "    </tr>\n",
       "    <tr>\n",
       "      <th>4</th>\n",
       "      <td>동해시</td>\n",
       "      <td>0.351716</td>\n",
       "    </tr>\n",
       "    <tr>\n",
       "      <th>...</th>\n",
       "      <td>...</td>\n",
       "      <td>...</td>\n",
       "    </tr>\n",
       "    <tr>\n",
       "      <th>119</th>\n",
       "      <td>거창군</td>\n",
       "      <td>0.229965</td>\n",
       "    </tr>\n",
       "    <tr>\n",
       "      <th>120</th>\n",
       "      <td>합천군</td>\n",
       "      <td>0.106050</td>\n",
       "    </tr>\n",
       "    <tr>\n",
       "      <th>121</th>\n",
       "      <td>제주시</td>\n",
       "      <td>0.709044</td>\n",
       "    </tr>\n",
       "    <tr>\n",
       "      <th>122</th>\n",
       "      <td>서귀포시</td>\n",
       "      <td>0.429785</td>\n",
       "    </tr>\n",
       "    <tr>\n",
       "      <th>123</th>\n",
       "      <td>군위군</td>\n",
       "      <td>0.094006</td>\n",
       "    </tr>\n",
       "  </tbody>\n",
       "</table>\n",
       "<p>124 rows × 2 columns</p>\n",
       "</div>"
      ],
      "text/plain": [
       "        행정구역   지방소멸위험도\n",
       "0    세종특별자치시  1.166472\n",
       "1        춘천시  0.582734\n",
       "2        원주시  0.663052\n",
       "3        강릉시  0.387068\n",
       "4        동해시  0.351716\n",
       "..       ...       ...\n",
       "119      거창군  0.229965\n",
       "120      합천군  0.106050\n",
       "121      제주시  0.709044\n",
       "122     서귀포시  0.429785\n",
       "123      군위군  0.094006\n",
       "\n",
       "[124 rows x 2 columns]"
      ]
     },
     "execution_count": 74,
     "metadata": {},
     "output_type": "execute_result"
    }
   ],
   "source": [
    "data1"
   ]
  },
  {
   "cell_type": "code",
   "execution_count": 76,
   "metadata": {},
   "outputs": [],
   "source": [
    "data2.rename(columns = {'구분':'행정구역'}, inplace = True)"
   ]
  },
  {
   "cell_type": "code",
   "execution_count": 79,
   "metadata": {},
   "outputs": [],
   "source": [
    "data2 = data2.iloc[:,1:]"
   ]
  },
  {
   "cell_type": "code",
   "execution_count": 82,
   "metadata": {},
   "outputs": [],
   "source": [
    "df4 = pd.merge(data1,data2, how = 'inner', on = '행정구역')"
   ]
  },
  {
   "cell_type": "code",
   "execution_count": 83,
   "metadata": {},
   "outputs": [],
   "source": [
    "df4.to_csv('C:/Users/user/Desktop/데분/df4.csv',index=False)"
   ]
  },
  {
   "cell_type": "markdown",
   "metadata": {},
   "source": [
    "# 통합"
   ]
  },
  {
   "cell_type": "code",
   "execution_count": null,
   "metadata": {},
   "outputs": [],
   "source": [
    "df1 = pd.read_csv('C:/Users/user/Desktop/데분/df1.csv')\n",
    "df2 = pd.read_csv('C:/Users/user/Desktop/데분/df2.csv')\n",
    "df3 = pd.read_csv('C:/Users/user/Desktop/데분/df3.csv')\n"
   ]
  },
  {
   "cell_type": "code",
   "execution_count": 83,
   "metadata": {},
   "outputs": [],
   "source": [
    "df = pd.merge(df1,df2, how = 'inner', on = '행정구역')\n",
    "df = pd.merge(df, df3, how = 'inner', on = '행정구역')"
   ]
  },
  {
   "cell_type": "code",
   "execution_count": null,
   "metadata": {},
   "outputs": [],
   "source": [
    "df"
   ]
  },
  {
   "cell_type": "code",
   "execution_count": 85,
   "metadata": {},
   "outputs": [],
   "source": [
    "df.to_csv('C:/Users/user/Desktop/데분/df.csv',index=False)"
   ]
  },
  {
   "cell_type": "markdown",
   "metadata": {},
   "source": [
    "# df4 추가본"
   ]
  },
  {
   "cell_type": "code",
   "execution_count": 85,
   "metadata": {},
   "outputs": [],
   "source": [
    "df =  pd.read_csv('C:/Users/user/Desktop/데분/df.csv')\n",
    "df4 =  pd.read_csv('C:/Users/user/Desktop/데분/df4.csv')"
   ]
  },
  {
   "cell_type": "code",
   "execution_count": 86,
   "metadata": {},
   "outputs": [],
   "source": [
    "df = pd.merge(df, df4, how = 'inner', on = '행정구역')"
   ]
  },
  {
   "cell_type": "code",
   "execution_count": 88,
   "metadata": {},
   "outputs": [],
   "source": [
    "df.to_csv('C:/Users/user/Desktop/데분/df.csv',index=False)"
   ]
  }
 ],
 "metadata": {
  "kernelspec": {
   "display_name": "base",
   "language": "python",
   "name": "python3"
  },
  "language_info": {
   "codemirror_mode": {
    "name": "ipython",
    "version": 3
   },
   "file_extension": ".py",
   "mimetype": "text/x-python",
   "name": "python",
   "nbconvert_exporter": "python",
   "pygments_lexer": "ipython3",
   "version": "3.8.3"
  }
 },
 "nbformat": 4,
 "nbformat_minor": 2
}
