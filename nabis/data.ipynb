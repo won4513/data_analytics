{
 "cells": [
  {
   "cell_type": "code",
   "execution_count": 1,
   "metadata": {},
   "outputs": [],
   "source": [
    "import pandas as pd\n",
    "import numpy as np"
   ]
  },
  {
   "cell_type": "markdown",
   "metadata": {},
   "source": [
    "# 주민등록,전입,전출"
   ]
  },
  {
   "cell_type": "code",
   "execution_count": 77,
   "metadata": {},
   "outputs": [],
   "source": [
    "#주민등록인구\n",
    "data1 = pd.read_csv(\"C:/Users/user/Desktop/데분/202306_202306_주민등록인구및세대현황_월간.csv\", encoding = 'cp949')\n",
    "\n",
    "#전입인구 \n",
    "data2 = pd.read_csv(\"C:/Users/user/Desktop/데분/전입인구(시도시군구).csv\", encoding = 'cp949')\n",
    "\n",
    "#전출인구\n",
    "data3 = pd.read_csv(\"C:/Users/user/Desktop/데분/전출인구(시도시군구).csv\", encoding = 'cp949')"
   ]
  },
  {
   "cell_type": "code",
   "execution_count": 78,
   "metadata": {},
   "outputs": [],
   "source": [
    "data1['행정구역'] = data1['행정구역'].str.replace(r'\\s*\\([^)]*\\)', '', regex=True)\n",
    "data1['행정구역'] = data1['행정구역'].str.split().str.get(-1)"
   ]
  },
  {
   "cell_type": "code",
   "execution_count": 79,
   "metadata": {},
   "outputs": [],
   "source": [
    "data1.loc[data1['행정구역'] == '고성군', '행정구역'] = ['고성군(강원)', '고성군(경남)']"
   ]
  },
  {
   "cell_type": "code",
   "execution_count": 80,
   "metadata": {},
   "outputs": [],
   "source": [
    "data2['전입인구(2022.1~2023.5)'] = data2[['2022', '2022.1', '2022.2', '2022.3', '2022.4', '2022.5', '2022.6', '2022.7', '2022.8', '2022.9', '2022.10', '2022.11', '2023', '2023.1', '2023.2', '2023.3', '2023.4']].sum(axis=1)\n",
    "data3['전출인구(2022.1~2023.5)'] = data3[['2022', '2022.1', '2022.2', '2022.3', '2022.4', '2022.5', '2022.6', '2022.7', '2022.8', '2022.9', '2022.10', '2022.11', '2023', '2023.1', '2023.2', '2023.3', '2023.4']].sum(axis=1)\n"
   ]
  },
  {
   "cell_type": "code",
   "execution_count": 81,
   "metadata": {},
   "outputs": [],
   "source": [
    "data2.loc[data2['구분'] == '고성군', '구분'] = ['고성군(강원)', '고성군(경남)']\n",
    "data3.loc[data3['구분'] == '고성군', '구분'] = ['고성군(강원)', '고성군(경남)']"
   ]
  },
  {
   "cell_type": "code",
   "execution_count": 82,
   "metadata": {},
   "outputs": [],
   "source": [
    "col1 = data2[['구분','전입인구(2022.1~2023.5)']]\n",
    "col2 = data3[['구분','전출인구(2022.1~2023.5)']]"
   ]
  },
  {
   "cell_type": "code",
   "execution_count": 83,
   "metadata": {},
   "outputs": [],
   "source": [
    "col1 = col1.iloc[1:]\n",
    "col2 = col2.iloc[1:]"
   ]
  },
  {
   "cell_type": "code",
   "execution_count": 84,
   "metadata": {},
   "outputs": [],
   "source": [
    "df = pd.merge(col1,col2, how = 'inner', on = '구분')"
   ]
  },
  {
   "cell_type": "code",
   "execution_count": 85,
   "metadata": {},
   "outputs": [],
   "source": [
    "df.rename(columns = {'구분':'행정구역'}, inplace = True)"
   ]
  },
  {
   "cell_type": "code",
   "execution_count": 86,
   "metadata": {},
   "outputs": [],
   "source": [
    "df = pd.merge(data1, df, how = 'inner', on = '행정구역')"
   ]
  },
  {
   "cell_type": "code",
   "execution_count": 88,
   "metadata": {},
   "outputs": [],
   "source": [
    "df.to_csv('C:/Users/user/Desktop/데분/df.csv',index=False)"
   ]
  },
  {
   "cell_type": "markdown",
   "metadata": {},
   "source": [
    "# 사업체 수, 매출액, 문화시설 기반 수, 의료시설 기반 수"
   ]
  },
  {
   "cell_type": "code",
   "execution_count": 126,
   "metadata": {},
   "outputs": [],
   "source": [
    "#사업체\n",
    "data1 = pd.read_csv(\"C:/Users/user/Desktop/데분/인구_천명당_사업체수(시도시군구).csv\", encoding = 'cp949')\n",
    "\n",
    "#의료시설\n",
    "data2 = pd.read_csv(\"C:/Users/user/Desktop/데분/인구_천명당_의료기관병상수(시도시군구).csv\", encoding = 'cp949')\n",
    "\n",
    "#문화시설\n",
    "data3 = pd.read_csv(\"C:/Users/user/Desktop/데분/인구_십만명당_문화기반시설수(시도시군구).csv\", encoding = 'cp949')"
   ]
  },
  {
   "cell_type": "code",
   "execution_count": 127,
   "metadata": {},
   "outputs": [],
   "source": [
    "data1.loc[data1['구분'] == '고성군', '구분'] = ['고성군(강원)', '고성군(경남)']\n",
    "data2.loc[data2['구분'] == '고성군', '구분'] = ['고성군(강원)', '고성군(경남)']\n",
    "data3.loc[data3['구분'] == '고성군', '구분'] = ['고성군(강원)', '고성군(경남)']"
   ]
  },
  {
   "cell_type": "code",
   "execution_count": 128,
   "metadata": {},
   "outputs": [],
   "source": [
    "data1.rename(columns = {'2020':'2020_사업체수',\n",
    "                        '2021':'2021_사업체수'}, inplace = True)\n",
    "data2.rename(columns = {'2020':'2020_인구천명당_의료기관병상수',\n",
    "                        '2021':'2021_인구천명당_의료기관병상수'}, inplace = True)\n",
    "data3.rename(columns = {'2020':'2020_인구십만명당_문화기반시설수',\n",
    "                        '2021':'2021_인구십만명당_문화기반시설수'}, inplace = True)"
   ]
  },
  {
   "cell_type": "code",
   "execution_count": 132,
   "metadata": {},
   "outputs": [],
   "source": [
    "df = pd.merge(data1,data2, how = 'inner', on = '구분')"
   ]
  },
  {
   "cell_type": "code",
   "execution_count": 133,
   "metadata": {},
   "outputs": [],
   "source": [
    "df = pd.merge(df, data3, how = 'inner', on = '구분')"
   ]
  },
  {
   "cell_type": "code",
   "execution_count": 134,
   "metadata": {},
   "outputs": [
    {
     "data": {
      "text/html": [
       "<div>\n",
       "<style scoped>\n",
       "    .dataframe tbody tr th:only-of-type {\n",
       "        vertical-align: middle;\n",
       "    }\n",
       "\n",
       "    .dataframe tbody tr th {\n",
       "        vertical-align: top;\n",
       "    }\n",
       "\n",
       "    .dataframe thead th {\n",
       "        text-align: right;\n",
       "    }\n",
       "</style>\n",
       "<table border=\"1\" class=\"dataframe\">\n",
       "  <thead>\n",
       "    <tr style=\"text-align: right;\">\n",
       "      <th></th>\n",
       "      <th>구분</th>\n",
       "      <th>2020_사업체수</th>\n",
       "      <th>2021_사업체수</th>\n",
       "      <th>2020_인구천명당_의료기관병상수</th>\n",
       "      <th>2021_인구천명당_의료기관병상수</th>\n",
       "      <th>2020_인구십만명당_문화기반시설수</th>\n",
       "      <th>2021_인구십만명당_문화기반시설수</th>\n",
       "    </tr>\n",
       "  </thead>\n",
       "  <tbody>\n",
       "    <tr>\n",
       "      <th>0</th>\n",
       "      <td>세종특별자치시</td>\n",
       "      <td>80.1</td>\n",
       "      <td>82.0</td>\n",
       "      <td>5.6</td>\n",
       "      <td>5.6</td>\n",
       "      <td>6.5</td>\n",
       "      <td>6.5</td>\n",
       "    </tr>\n",
       "    <tr>\n",
       "      <th>1</th>\n",
       "      <td>춘천시</td>\n",
       "      <td>114.5</td>\n",
       "      <td>115.8</td>\n",
       "      <td>14.7</td>\n",
       "      <td>14.9</td>\n",
       "      <td>10.6</td>\n",
       "      <td>10.9</td>\n",
       "    </tr>\n",
       "    <tr>\n",
       "      <th>2</th>\n",
       "      <td>원주시</td>\n",
       "      <td>115.7</td>\n",
       "      <td>119.6</td>\n",
       "      <td>13.6</td>\n",
       "      <td>15.0</td>\n",
       "      <td>5.9</td>\n",
       "      <td>5.9</td>\n",
       "    </tr>\n",
       "    <tr>\n",
       "      <th>3</th>\n",
       "      <td>강릉시</td>\n",
       "      <td>131.2</td>\n",
       "      <td>136.3</td>\n",
       "      <td>12.5</td>\n",
       "      <td>12.4</td>\n",
       "      <td>14.1</td>\n",
       "      <td>14.1</td>\n",
       "    </tr>\n",
       "    <tr>\n",
       "      <th>4</th>\n",
       "      <td>동해시</td>\n",
       "      <td>122.6</td>\n",
       "      <td>126.5</td>\n",
       "      <td>15.9</td>\n",
       "      <td>14.5</td>\n",
       "      <td>7.7</td>\n",
       "      <td>7.8</td>\n",
       "    </tr>\n",
       "    <tr>\n",
       "      <th>...</th>\n",
       "      <td>...</td>\n",
       "      <td>...</td>\n",
       "      <td>...</td>\n",
       "      <td>...</td>\n",
       "      <td>...</td>\n",
       "      <td>...</td>\n",
       "      <td>...</td>\n",
       "    </tr>\n",
       "    <tr>\n",
       "      <th>119</th>\n",
       "      <td>함양군</td>\n",
       "      <td>116.3</td>\n",
       "      <td>126.3</td>\n",
       "      <td>4.1</td>\n",
       "      <td>4.2</td>\n",
       "      <td>10.2</td>\n",
       "      <td>10.4</td>\n",
       "    </tr>\n",
       "    <tr>\n",
       "      <th>120</th>\n",
       "      <td>거창군</td>\n",
       "      <td>119.6</td>\n",
       "      <td>125.5</td>\n",
       "      <td>13.5</td>\n",
       "      <td>13.6</td>\n",
       "      <td>9.8</td>\n",
       "      <td>9.8</td>\n",
       "    </tr>\n",
       "    <tr>\n",
       "      <th>121</th>\n",
       "      <td>합천군</td>\n",
       "      <td>114.6</td>\n",
       "      <td>127.4</td>\n",
       "      <td>18.1</td>\n",
       "      <td>20.2</td>\n",
       "      <td>13.6</td>\n",
       "      <td>14.0</td>\n",
       "    </tr>\n",
       "    <tr>\n",
       "      <th>122</th>\n",
       "      <td>제주시</td>\n",
       "      <td>142.2</td>\n",
       "      <td>144.8</td>\n",
       "      <td>8.9</td>\n",
       "      <td>9.2</td>\n",
       "      <td>14.4</td>\n",
       "      <td>14.0</td>\n",
       "    </tr>\n",
       "    <tr>\n",
       "      <th>123</th>\n",
       "      <td>서귀포시</td>\n",
       "      <td>131.5</td>\n",
       "      <td>134.6</td>\n",
       "      <td>2.9</td>\n",
       "      <td>3.0</td>\n",
       "      <td>35.1</td>\n",
       "      <td>33.2</td>\n",
       "    </tr>\n",
       "  </tbody>\n",
       "</table>\n",
       "<p>124 rows × 7 columns</p>\n",
       "</div>"
      ],
      "text/plain": [
       "          구분  2020_사업체수  2021_사업체수  2020_인구천명당_의료기관병상수  2021_인구천명당_의료기관병상수  \\\n",
       "0    세종특별자치시       80.1       82.0                 5.6                 5.6   \n",
       "1        춘천시      114.5      115.8                14.7                14.9   \n",
       "2        원주시      115.7      119.6                13.6                15.0   \n",
       "3        강릉시      131.2      136.3                12.5                12.4   \n",
       "4        동해시      122.6      126.5                15.9                14.5   \n",
       "..       ...        ...        ...                 ...                 ...   \n",
       "119      함양군      116.3      126.3                 4.1                 4.2   \n",
       "120      거창군      119.6      125.5                13.5                13.6   \n",
       "121      합천군      114.6      127.4                18.1                20.2   \n",
       "122      제주시      142.2      144.8                 8.9                 9.2   \n",
       "123     서귀포시      131.5      134.6                 2.9                 3.0   \n",
       "\n",
       "     2020_인구십만명당_문화기반시설수  2021_인구십만명당_문화기반시설수  \n",
       "0                    6.5                  6.5  \n",
       "1                   10.6                 10.9  \n",
       "2                    5.9                  5.9  \n",
       "3                   14.1                 14.1  \n",
       "4                    7.7                  7.8  \n",
       "..                   ...                  ...  \n",
       "119                 10.2                 10.4  \n",
       "120                  9.8                  9.8  \n",
       "121                 13.6                 14.0  \n",
       "122                 14.4                 14.0  \n",
       "123                 35.1                 33.2  \n",
       "\n",
       "[124 rows x 7 columns]"
      ]
     },
     "execution_count": 134,
     "metadata": {},
     "output_type": "execute_result"
    }
   ],
   "source": [
    "df"
   ]
  },
  {
   "cell_type": "code",
   "execution_count": null,
   "metadata": {},
   "outputs": [],
   "source": []
  }
 ],
 "metadata": {
  "kernelspec": {
   "display_name": "base",
   "language": "python",
   "name": "python3"
  },
  "language_info": {
   "codemirror_mode": {
    "name": "ipython",
    "version": 3
   },
   "file_extension": ".py",
   "mimetype": "text/x-python",
   "name": "python",
   "nbconvert_exporter": "python",
   "pygments_lexer": "ipython3",
   "version": "3.8.3"
  }
 },
 "nbformat": 4,
 "nbformat_minor": 2
}
