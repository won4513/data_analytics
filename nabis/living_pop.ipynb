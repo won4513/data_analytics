{
 "cells": [
  {
   "cell_type": "code",
   "execution_count": 2,
   "metadata": {},
   "outputs": [],
   "source": [
    "import pandas as pd\n",
    "import numpy as np"
   ]
  },
  {
   "cell_type": "code",
   "execution_count": 3,
   "metadata": {},
   "outputs": [],
   "source": [
    "#12회반복\n",
    "data1 = pd.read_csv(\"C:/Users/user/Desktop/데분/KT_popul/별첨_전국_누적_행정동코드_정의서_KT_20230502.csv\", encoding = 'cp949')\n",
    "\n",
    "data2 = pd.read_csv(\"C:/Users/user/Desktop/데분/KT_popul/2022/sgg_avg_native_sum_202202.csv\", encoding = 'cp949')"
   ]
  },
  {
   "cell_type": "code",
   "execution_count": 4,
   "metadata": {},
   "outputs": [
    {
     "name": "stdout",
     "output_type": "stream",
     "text": [
      "      base_ym        sgg_cd    living_pop\n",
      "0      202201     서울특별시 종로구  1.087799e+07\n",
      "17     202201      서울특별시 중구  1.008838e+07\n",
      "32     202201     서울특별시 용산구  1.210713e+07\n",
      "48     202201     서울특별시 성동구  1.438625e+07\n",
      "65     202201     서울특별시 광진구  1.563660e+07\n",
      "...       ...           ...           ...\n",
      "3594   202201      경상남도 함양군  2.030426e+06\n",
      "3605   202201      경상남도 거창군  2.661954e+06\n",
      "3617   202201      경상남도 합천군  2.025045e+06\n",
      "3634   202201   제주특별자치도 제주시  3.218472e+07\n",
      "3660   202201  제주특별자치도 서귀포시  1.247291e+07\n",
      "\n",
      "[250 rows x 3 columns]\n"
     ]
    }
   ],
   "source": [
    "# 데이터1에서 sgg_cd, sido_nm, sgg_nm 열만 추출\n",
    "data1_subset = data1[['sgg_cd', 'sido_nm', 'sgg_nm']]\n",
    "\n",
    "# 데이터2의 sgg_cd를 데이터1과 조인하여 sido_nm과 sgg_nm을 가져오기\n",
    "data2 = data2.merge(data1_subset, left_on='sgg_cd', right_on='sgg_cd', how='left')\n",
    "\n",
    "# 조인 후, sido_nm과 sgg_nm을 조합하여 새로운 열 생성\n",
    "data2['combined_sido_sgg'] = data2['sido_nm'] + ' ' + data2['sgg_nm']\n",
    "\n",
    "# 중복된 sgg_cd 열 제거\n",
    "data2.drop_duplicates(subset='sgg_cd', keep='first', inplace=True)\n",
    "\n",
    "# 기존 sgg_cd 열을 새로운 값으로 대체\n",
    "data2['sgg_cd'] = data2['combined_sido_sgg']\n",
    "\n",
    "# 필요 없어진 열 삭제\n",
    "data2.drop(['sido_nm', 'sgg_nm', 'combined_sido_sgg'], axis=1, inplace=True)\n",
    "\n",
    "# 결과 출력\n",
    "print(data2)"
   ]
  },
  {
   "cell_type": "code",
   "execution_count": 5,
   "metadata": {},
   "outputs": [
    {
     "data": {
      "text/html": [
       "<div>\n",
       "<style scoped>\n",
       "    .dataframe tbody tr th:only-of-type {\n",
       "        vertical-align: middle;\n",
       "    }\n",
       "\n",
       "    .dataframe tbody tr th {\n",
       "        vertical-align: top;\n",
       "    }\n",
       "\n",
       "    .dataframe thead th {\n",
       "        text-align: right;\n",
       "    }\n",
       "</style>\n",
       "<table border=\"1\" class=\"dataframe\">\n",
       "  <thead>\n",
       "    <tr style=\"text-align: right;\">\n",
       "      <th></th>\n",
       "      <th>base_ym</th>\n",
       "      <th>sgg_cd</th>\n",
       "      <th>living_pop</th>\n",
       "    </tr>\n",
       "  </thead>\n",
       "  <tbody>\n",
       "    <tr>\n",
       "      <th>1192</th>\n",
       "      <td>202201</td>\n",
       "      <td>NaN</td>\n",
       "      <td>1.551578e+07</td>\n",
       "    </tr>\n",
       "    <tr>\n",
       "      <th>1866</th>\n",
       "      <td>202201</td>\n",
       "      <td>강원도 춘천시</td>\n",
       "      <td>1.421678e+07</td>\n",
       "    </tr>\n",
       "    <tr>\n",
       "      <th>1891</th>\n",
       "      <td>202201</td>\n",
       "      <td>강원도 원주시</td>\n",
       "      <td>1.616849e+07</td>\n",
       "    </tr>\n",
       "    <tr>\n",
       "      <th>1916</th>\n",
       "      <td>202201</td>\n",
       "      <td>강원도 강릉시</td>\n",
       "      <td>1.316016e+07</td>\n",
       "    </tr>\n",
       "    <tr>\n",
       "      <th>1937</th>\n",
       "      <td>202201</td>\n",
       "      <td>강원도 동해시</td>\n",
       "      <td>4.902167e+06</td>\n",
       "    </tr>\n",
       "    <tr>\n",
       "      <th>...</th>\n",
       "      <td>...</td>\n",
       "      <td>...</td>\n",
       "      <td>...</td>\n",
       "    </tr>\n",
       "    <tr>\n",
       "      <th>3594</th>\n",
       "      <td>202201</td>\n",
       "      <td>경상남도 함양군</td>\n",
       "      <td>2.030426e+06</td>\n",
       "    </tr>\n",
       "    <tr>\n",
       "      <th>3605</th>\n",
       "      <td>202201</td>\n",
       "      <td>경상남도 거창군</td>\n",
       "      <td>2.661954e+06</td>\n",
       "    </tr>\n",
       "    <tr>\n",
       "      <th>3617</th>\n",
       "      <td>202201</td>\n",
       "      <td>경상남도 합천군</td>\n",
       "      <td>2.025045e+06</td>\n",
       "    </tr>\n",
       "    <tr>\n",
       "      <th>3634</th>\n",
       "      <td>202201</td>\n",
       "      <td>제주특별자치도 제주시</td>\n",
       "      <td>3.218472e+07</td>\n",
       "    </tr>\n",
       "    <tr>\n",
       "      <th>3660</th>\n",
       "      <td>202201</td>\n",
       "      <td>제주특별자치도 서귀포시</td>\n",
       "      <td>1.247291e+07</td>\n",
       "    </tr>\n",
       "  </tbody>\n",
       "</table>\n",
       "<p>134 rows × 3 columns</p>\n",
       "</div>"
      ],
      "text/plain": [
       "      base_ym        sgg_cd    living_pop\n",
       "1192   202201           NaN  1.551578e+07\n",
       "1866   202201       강원도 춘천시  1.421678e+07\n",
       "1891   202201       강원도 원주시  1.616849e+07\n",
       "1916   202201       강원도 강릉시  1.316016e+07\n",
       "1937   202201       강원도 동해시  4.902167e+06\n",
       "...       ...           ...           ...\n",
       "3594   202201      경상남도 함양군  2.030426e+06\n",
       "3605   202201      경상남도 거창군  2.661954e+06\n",
       "3617   202201      경상남도 합천군  2.025045e+06\n",
       "3634   202201   제주특별자치도 제주시  3.218472e+07\n",
       "3660   202201  제주특별자치도 서귀포시  1.247291e+07\n",
       "\n",
       "[134 rows x 3 columns]"
      ]
     },
     "execution_count": 5,
     "metadata": {},
     "output_type": "execute_result"
    }
   ],
   "source": [
    "# big 리스트에 있는 값들을 가진 행 삭제\n",
    "big = ['서울특별시', '경기도', '부산광역시', '인천광역시', '대구광역시', '광주광역시', '울산광역시', '대전광역시']\n",
    "data2 = data2[~data2['sgg_cd'].str.split().str[0].isin(big)]\n",
    "\n",
    "# 결과 출력\n",
    "data2"
   ]
  },
  {
   "cell_type": "code",
   "execution_count": 6,
   "metadata": {},
   "outputs": [],
   "source": [
    "data3 = data2[~data2['sgg_cd'].isin(big)]"
   ]
  },
  {
   "cell_type": "code",
   "execution_count": 7,
   "metadata": {},
   "outputs": [],
   "source": [
    "data3['sgg_cd'] = data3['sgg_cd'].str.split().str[1]"
   ]
  },
  {
   "cell_type": "code",
   "execution_count": 8,
   "metadata": {},
   "outputs": [],
   "source": [
    "data3.fillna('세종특별자치시', inplace = True)"
   ]
  },
  {
   "cell_type": "code",
   "execution_count": 9,
   "metadata": {},
   "outputs": [],
   "source": [
    "data3.loc[data3['sgg_cd'] == '고성군', 'sgg_cd'] = ['고성군(강원)', '고성군(경남)']"
   ]
  },
  {
   "cell_type": "code",
   "execution_count": 10,
   "metadata": {},
   "outputs": [],
   "source": [
    "df2 = data3.groupby('sgg_cd')['living_pop'].sum().reset_index()\n"
   ]
  },
  {
   "cell_type": "code",
   "execution_count": 11,
   "metadata": {},
   "outputs": [
    {
     "data": {
      "text/html": [
       "<div>\n",
       "<style scoped>\n",
       "    .dataframe tbody tr th:only-of-type {\n",
       "        vertical-align: middle;\n",
       "    }\n",
       "\n",
       "    .dataframe tbody tr th {\n",
       "        vertical-align: top;\n",
       "    }\n",
       "\n",
       "    .dataframe thead th {\n",
       "        text-align: right;\n",
       "    }\n",
       "</style>\n",
       "<table border=\"1\" class=\"dataframe\">\n",
       "  <thead>\n",
       "    <tr style=\"text-align: right;\">\n",
       "      <th></th>\n",
       "      <th>행정구역</th>\n",
       "      <th>202201생활인구</th>\n",
       "    </tr>\n",
       "  </thead>\n",
       "  <tbody>\n",
       "    <tr>\n",
       "      <th>0</th>\n",
       "      <td>강릉시</td>\n",
       "      <td>1.316016e+07</td>\n",
       "    </tr>\n",
       "    <tr>\n",
       "      <th>1</th>\n",
       "      <td>강진군</td>\n",
       "      <td>1.878808e+06</td>\n",
       "    </tr>\n",
       "    <tr>\n",
       "      <th>2</th>\n",
       "      <td>거제시</td>\n",
       "      <td>1.525454e+07</td>\n",
       "    </tr>\n",
       "    <tr>\n",
       "      <th>3</th>\n",
       "      <td>거창군</td>\n",
       "      <td>2.661954e+06</td>\n",
       "    </tr>\n",
       "    <tr>\n",
       "      <th>4</th>\n",
       "      <td>경산시</td>\n",
       "      <td>1.251938e+07</td>\n",
       "    </tr>\n",
       "    <tr>\n",
       "      <th>...</th>\n",
       "      <td>...</td>\n",
       "      <td>...</td>\n",
       "    </tr>\n",
       "    <tr>\n",
       "      <th>119</th>\n",
       "      <td>홍성군</td>\n",
       "      <td>4.448342e+06</td>\n",
       "    </tr>\n",
       "    <tr>\n",
       "      <th>120</th>\n",
       "      <td>홍천군</td>\n",
       "      <td>3.989777e+06</td>\n",
       "    </tr>\n",
       "    <tr>\n",
       "      <th>121</th>\n",
       "      <td>화순군</td>\n",
       "      <td>3.310323e+06</td>\n",
       "    </tr>\n",
       "    <tr>\n",
       "      <th>122</th>\n",
       "      <td>화천군</td>\n",
       "      <td>1.785814e+06</td>\n",
       "    </tr>\n",
       "    <tr>\n",
       "      <th>123</th>\n",
       "      <td>횡성군</td>\n",
       "      <td>2.568524e+06</td>\n",
       "    </tr>\n",
       "  </tbody>\n",
       "</table>\n",
       "<p>124 rows × 2 columns</p>\n",
       "</div>"
      ],
      "text/plain": [
       "    행정구역    202201생활인구\n",
       "0    강릉시  1.316016e+07\n",
       "1    강진군  1.878808e+06\n",
       "2    거제시  1.525454e+07\n",
       "3    거창군  2.661954e+06\n",
       "4    경산시  1.251938e+07\n",
       "..   ...           ...\n",
       "119  홍성군  4.448342e+06\n",
       "120  홍천군  3.989777e+06\n",
       "121  화순군  3.310323e+06\n",
       "122  화천군  1.785814e+06\n",
       "123  횡성군  2.568524e+06\n",
       "\n",
       "[124 rows x 2 columns]"
      ]
     },
     "execution_count": 11,
     "metadata": {},
     "output_type": "execute_result"
    }
   ],
   "source": [
    "df2.rename(columns = {'sgg_cd':'행정구역',\n",
    "                        'living_pop':'202201생활인구'}, inplace = True)\n",
    "df2"
   ]
  },
  {
   "cell_type": "code",
   "execution_count": null,
   "metadata": {},
   "outputs": [],
   "source": [
    "df1"
   ]
  }
 ],
 "metadata": {
  "kernelspec": {
   "display_name": "base",
   "language": "python",
   "name": "python3"
  },
  "language_info": {
   "codemirror_mode": {
    "name": "ipython",
    "version": 3
   },
   "file_extension": ".py",
   "mimetype": "text/x-python",
   "name": "python",
   "nbconvert_exporter": "python",
   "pygments_lexer": "ipython3",
   "version": "3.8.3"
  },
  "orig_nbformat": 4
 },
 "nbformat": 4,
 "nbformat_minor": 2
}
